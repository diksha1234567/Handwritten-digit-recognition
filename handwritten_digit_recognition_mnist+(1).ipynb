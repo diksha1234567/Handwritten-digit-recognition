{
 "cells": [
  {
   "cell_type": "code",
   "execution_count": 16,
   "metadata": {
    "colab": {},
    "colab_type": "code",
    "collapsed": true,
    "id": "C_uP8m0JsMjH"
   },
   "outputs": [],
   "source": [
    "import tensorflow as tf"
   ]
  },
  {
   "cell_type": "code",
   "execution_count": 17,
   "metadata": {
    "colab": {},
    "colab_type": "code",
    "collapsed": true,
    "id": "yQzV00S8sUS8"
   },
   "outputs": [],
   "source": [
    "from keras.datasets import mnist"
   ]
  },
  {
   "cell_type": "code",
   "execution_count": 18,
   "metadata": {
    "colab": {},
    "colab_type": "code",
    "collapsed": true,
    "id": "AHHj0G2ZsX7z"
   },
   "outputs": [],
   "source": [
    "from matplotlib import pyplot"
   ]
  },
  {
   "cell_type": "code",
   "execution_count": 19,
   "metadata": {
    "colab": {},
    "colab_type": "code",
    "collapsed": true,
    "id": "gzlHvW39uBX1"
   },
   "outputs": [],
   "source": [
    "(x_train, y_train), (x_test, y_test) = mnist.load_data()"
   ]
  },
  {
   "cell_type": "code",
   "execution_count": 20,
   "metadata": {
    "colab": {
     "base_uri": "https://localhost:8080/",
     "height": 34
    },
    "colab_type": "code",
    "id": "Sx6_vu9nuNkj",
    "outputId": "feb97b93-ce83-416e-a195-57b29f32c44f"
   },
   "outputs": [
    {
     "name": "stdout",
     "output_type": "stream",
     "text": [
      "(60000, 28, 28) (10000, 28, 28) (60000,) (10000,)\n"
     ]
    }
   ],
   "source": [
    "print(x_train.shape,x_test.shape,y_train.shape,y_test.shape)"
   ]
  },
  {
   "cell_type": "code",
   "execution_count": 21,
   "metadata": {
    "colab": {},
    "colab_type": "code",
    "collapsed": true,
    "id": "-C1iTALQug22"
   },
   "outputs": [],
   "source": [
    "\n",
    "from keras.models import Sequential\n",
    "from keras.layers import Dense, Dropout, Flatten\n",
    "from keras.layers import Conv2D, MaxPooling2D\n",
    "from keras import backend as K"
   ]
  },
  {
   "cell_type": "code",
   "execution_count": 22,
   "metadata": {
    "colab": {
     "base_uri": "https://localhost:8080/",
     "height": 136
    },
    "colab_type": "code",
    "id": "b4M2hW2tfnqR",
    "outputId": "799036fe-787b-48c3-9f61-052d9bd429a0"
   },
   "outputs": [
    {
     "data": {
      "text/plain": [
       "array([[0., 0., 0., ..., 0., 0., 0.],\n",
       "       [0., 0., 0., ..., 0., 0., 0.],\n",
       "       [0., 0., 0., ..., 0., 0., 0.],\n",
       "       ...,\n",
       "       [0., 0., 0., ..., 0., 0., 0.],\n",
       "       [0., 0., 0., ..., 0., 0., 0.],\n",
       "       [0., 0., 0., ..., 0., 0., 0.]], dtype=float32)"
      ]
     },
     "execution_count": 22,
     "metadata": {
      "tags": []
     },
     "output_type": "execute_result"
    }
   ],
   "source": [
    "x_train=x_train.reshape(-1,784)\n",
    "x_test=x_test.reshape(-1,784)\n",
    "x_train.astype('float32')\n",
    "x_test.astype('float32')"
   ]
  },
  {
   "cell_type": "code",
   "execution_count": 23,
   "metadata": {
    "colab": {},
    "colab_type": "code",
    "collapsed": true,
    "id": "GLx61072hbk3"
   },
   "outputs": [],
   "source": [
    "x_train=x_train/255\n",
    "x_test=x_test/255"
   ]
  },
  {
   "cell_type": "code",
   "execution_count": 24,
   "metadata": {
    "colab": {},
    "colab_type": "code",
    "collapsed": true,
    "id": "9H2YqyaGiO4N"
   },
   "outputs": [],
   "source": [
    "import numpy as np\n",
    "from keras.utils import np_utils\n",
    "n_classes=10\n",
    "y_train=np_utils.to_categorical(y_train,n_classes)\n",
    "y_test=np_utils.to_categorical(y_test,n_classes)"
   ]
  },
  {
   "cell_type": "code",
   "execution_count": 25,
   "metadata": {
    "colab": {},
    "colab_type": "code",
    "collapsed": true,
    "id": "3wC5Q3EMntK1"
   },
   "outputs": [],
   "source": [
    "\n",
    "model = Sequential()"
   ]
  },
  {
   "cell_type": "code",
   "execution_count": 12,
   "metadata": {
    "colab": {},
    "colab_type": "code",
    "collapsed": true,
    "id": "b1xxoLD9GI0D"
   },
   "outputs": [],
   "source": [
    "from keras.layers import Dense, Activation, Input, Dropout\n",
    "model.add( Dense( 512, input_shape = (784,) ) )\n",
    "model.add( Activation('relu') )\n",
    "model.add( Dropout(0.2) )\n",
    "model.add( Dense( 512 ) )\n",
    "model.add( Activation('relu') )\n",
    "model.add( Dropout(0.2) )\n",
    "model.add( Dense( 10 ) )\n",
    "model.add( Activation('softmax') )"
   ]
  },
  {
   "cell_type": "code",
   "execution_count": 13,
   "metadata": {
    "colab": {
     "base_uri": "https://localhost:8080/",
     "height": 425
    },
    "colab_type": "code",
    "id": "LwWk5-U_GLwf",
    "outputId": "972c2466-e152-4463-c10a-11eb7b62a1b5"
   },
   "outputs": [
    {
     "name": "stdout",
     "output_type": "stream",
     "text": [
      "Model: \"sequential_1\"\n",
      "_________________________________________________________________\n",
      "Layer (type)                 Output Shape              Param #   \n",
      "=================================================================\n",
      "dense_1 (Dense)              (None, 512)               401920    \n",
      "_________________________________________________________________\n",
      "activation_1 (Activation)    (None, 512)               0         \n",
      "_________________________________________________________________\n",
      "dropout_1 (Dropout)          (None, 512)               0         \n",
      "_________________________________________________________________\n",
      "dense_2 (Dense)              (None, 512)               262656    \n",
      "_________________________________________________________________\n",
      "activation_2 (Activation)    (None, 512)               0         \n",
      "_________________________________________________________________\n",
      "dropout_2 (Dropout)          (None, 512)               0         \n",
      "_________________________________________________________________\n",
      "dense_3 (Dense)              (None, 10)                5130      \n",
      "_________________________________________________________________\n",
      "activation_3 (Activation)    (None, 10)                0         \n",
      "=================================================================\n",
      "Total params: 669,706\n",
      "Trainable params: 669,706\n",
      "Non-trainable params: 0\n",
      "_________________________________________________________________\n"
     ]
    }
   ],
   "source": [
    "model.summary()"
   ]
  },
  {
   "cell_type": "code",
   "execution_count": 14,
   "metadata": {
    "colab": {},
    "colab_type": "code",
    "collapsed": true,
    "id": "7UgFxkpUGZNu"
   },
   "outputs": [],
   "source": [
    "model.compile( optimizer='adam', loss = 'categorical_crossentropy', metrics=['accuracy'] )"
   ]
  },
  {
   "cell_type": "code",
   "execution_count": 15,
   "metadata": {
    "colab": {
     "base_uri": "https://localhost:8080/",
     "height": 163
    },
    "colab_type": "code",
    "id": "0TRwrhmdG7Ax",
    "outputId": "806ccfed-c3ef-472e-978d-b12d1caf5db7"
   },
   "outputs": [
    {
     "ename": "NameError",
     "evalue": "ignored",
     "output_type": "error",
     "traceback": [
      "\u001b[0;31m---------------------------------------------------------------------------\u001b[0m",
      "\u001b[0;31mNameError\u001b[0m                                 Traceback (most recent call last)",
      "\u001b[0;32m<ipython-input-15-08fa712edb3b>\u001b[0m in \u001b[0;36m<module>\u001b[0;34m()\u001b[0m\n\u001b[0;32m----> 1\u001b[0;31m \u001b[0mprint\u001b[0m\u001b[0;34m(\u001b[0m\u001b[0mx_train\u001b[0m\u001b[0;34m.\u001b[0m\u001b[0mshape\u001b[0m\u001b[0;34m,\u001b[0m\u001b[0mx_test\u001b[0m\u001b[0;34m.\u001b[0m\u001b[0mshape\u001b[0m\u001b[0;34m,\u001b[0m\u001b[0my_train\u001b[0m\u001b[0;34m.\u001b[0m\u001b[0mshape\u001b[0m\u001b[0;34m,\u001b[0m\u001b[0my_test\u001b[0m\u001b[0;34m.\u001b[0m\u001b[0mshape\u001b[0m\u001b[0;34m)\u001b[0m\u001b[0;34m\u001b[0m\u001b[0;34m\u001b[0m\u001b[0m\n\u001b[0m",
      "\u001b[0;31mNameError\u001b[0m: name 'x_train' is not defined"
     ]
    }
   ],
   "source": [
    "print(x_train.shape,x_test.shape,y_train.shape,y_test.shape)"
   ]
  },
  {
   "cell_type": "code",
   "execution_count": 24,
   "metadata": {
    "colab": {
     "base_uri": "https://localhost:8080/",
     "height": 731
    },
    "colab_type": "code",
    "id": "aYOXY-GEGgRd",
    "outputId": "0825ff75-1b72-4957-a500-ab59f0d2594a"
   },
   "outputs": [
    {
     "name": "stdout",
     "output_type": "stream",
     "text": [
      "Train on 60000 samples, validate on 10000 samples\n",
      "Epoch 1/20\n",
      "60000/60000 [==============================] - 32s 536us/step - loss: 0.2549 - accuracy: 0.9231 - val_loss: 0.1306 - val_accuracy: 0.9600\n",
      "Epoch 2/20\n",
      "60000/60000 [==============================] - 32s 528us/step - loss: 0.1584 - accuracy: 0.9528 - val_loss: 0.1596 - val_accuracy: 0.9563\n",
      "Epoch 3/20\n",
      "60000/60000 [==============================] - 32s 526us/step - loss: 0.1441 - accuracy: 0.9583 - val_loss: 0.1246 - val_accuracy: 0.9622\n",
      "Epoch 4/20\n",
      "60000/60000 [==============================] - 31s 524us/step - loss: 0.1364 - accuracy: 0.9602 - val_loss: 0.1252 - val_accuracy: 0.9647\n",
      "Epoch 5/20\n",
      "60000/60000 [==============================] - 32s 531us/step - loss: 0.1206 - accuracy: 0.9668 - val_loss: 0.1374 - val_accuracy: 0.9633\n",
      "Epoch 6/20\n",
      "60000/60000 [==============================] - 32s 527us/step - loss: 0.1264 - accuracy: 0.9651 - val_loss: 0.1117 - val_accuracy: 0.9679\n",
      "Epoch 7/20\n",
      "60000/60000 [==============================] - 32s 527us/step - loss: 0.1210 - accuracy: 0.9661 - val_loss: 0.1079 - val_accuracy: 0.9744\n",
      "Epoch 8/20\n",
      "60000/60000 [==============================] - 31s 519us/step - loss: 0.1144 - accuracy: 0.9701 - val_loss: 0.1305 - val_accuracy: 0.9694\n",
      "Epoch 9/20\n",
      "60000/60000 [==============================] - 32s 529us/step - loss: 0.1192 - accuracy: 0.9682 - val_loss: 0.1131 - val_accuracy: 0.9738\n",
      "Epoch 10/20\n",
      "60000/60000 [==============================] - 31s 519us/step - loss: 0.1184 - accuracy: 0.9695 - val_loss: 0.1240 - val_accuracy: 0.9702\n",
      "Epoch 11/20\n",
      "60000/60000 [==============================] - 31s 523us/step - loss: 0.1125 - accuracy: 0.9715 - val_loss: 0.1268 - val_accuracy: 0.9734\n",
      "Epoch 12/20\n",
      "60000/60000 [==============================] - 31s 523us/step - loss: 0.1129 - accuracy: 0.9716 - val_loss: 0.1069 - val_accuracy: 0.9749\n",
      "Epoch 13/20\n",
      "60000/60000 [==============================] - 31s 525us/step - loss: 0.1177 - accuracy: 0.9721 - val_loss: 0.1234 - val_accuracy: 0.9706\n",
      "Epoch 14/20\n",
      "60000/60000 [==============================] - 37s 608us/step - loss: 0.1143 - accuracy: 0.9724 - val_loss: 0.1180 - val_accuracy: 0.9713\n",
      "Epoch 15/20\n",
      "60000/60000 [==============================] - 32s 527us/step - loss: 0.1065 - accuracy: 0.9731 - val_loss: 0.2013 - val_accuracy: 0.9664\n",
      "Epoch 16/20\n",
      "60000/60000 [==============================] - 32s 526us/step - loss: 0.1196 - accuracy: 0.9720 - val_loss: 0.1222 - val_accuracy: 0.9719\n",
      "Epoch 17/20\n",
      "60000/60000 [==============================] - 31s 525us/step - loss: 0.1124 - accuracy: 0.9744 - val_loss: 0.1380 - val_accuracy: 0.9729\n",
      "Epoch 18/20\n",
      "60000/60000 [==============================] - 32s 526us/step - loss: 0.1033 - accuracy: 0.9754 - val_loss: 0.1328 - val_accuracy: 0.9690\n",
      "Epoch 19/20\n",
      "60000/60000 [==============================] - 32s 529us/step - loss: 0.1137 - accuracy: 0.9737 - val_loss: 0.1633 - val_accuracy: 0.9726\n",
      "Epoch 20/20\n",
      "60000/60000 [==============================] - 31s 524us/step - loss: 0.1124 - accuracy: 0.9750 - val_loss: 0.1523 - val_accuracy: 0.9756\n"
     ]
    },
    {
     "data": {
      "text/plain": [
       "<keras.callbacks.callbacks.History at 0x7f1f65bd14e0>"
      ]
     },
     "execution_count": 24,
     "metadata": {
      "tags": []
     },
     "output_type": "execute_result"
    }
   ],
   "source": [
    "model.fit(x_train, y_train,epochs=20,validation_data=(x_test,y_test))"
   ]
  },
  {
   "cell_type": "code",
   "execution_count": 32,
   "metadata": {
    "colab": {
     "base_uri": "https://localhost:8080/",
     "height": 265
    },
    "colab_type": "code",
    "id": "T-0QDYBGGkZb",
    "outputId": "90babf66-94ca-45d6-ff1b-144c8dfea829"
   },
   "outputs": [
    {
     "data": {
      "image/png": "[encoded data removed]",
      "text/plain": [
       "<Figure size 432x288 with 1 Axes>"
      ]
     },
     "metadata": {
      "needs_background": "light",
      "tags": []
     },
     "output_type": "display_data"
    }
   ],
   "source": [
    "import matplotlib.pyplot as plt\n",
    "idx = np.random.choice( x_test.shape[0] )\n",
    "cur_img = x_test[idx]\n",
    "img = cur_img.reshape( (28,28) )\n",
    "plt.imshow( img, cmap='gray' )\n",
    "plt.show()"
   ]
  },
  {
   "cell_type": "code",
   "execution_count": 33,
   "metadata": {
    "colab": {
     "base_uri": "https://localhost:8080/",
     "height": 68
    },
    "colab_type": "code",
    "id": "seP9wPOwMpD6",
    "outputId": "07bfc54e-b39c-425d-db35-411a3043777f"
   },
   "outputs": [
    {
     "name": "stdout",
     "output_type": "stream",
     "text": [
      "(1, 784)\n",
      "Result : 5\n",
      "Confidence: 100.0\n"
     ]
    }
   ],
   "source": [
    "cur_img = np.reshape(cur_img,(1,-1))\n",
    "print(cur_img.shape)\n",
    "ans = model.predict( cur_img )\n",
    "res = ans[0].argmax()\n",
    "print (\"Result :\", res)\n",
    "print (\"Confidence:\", 100*ans[0][res])"
   ]
  },
  {
   "cell_type": "code",
   "execution_count": 65,
   "metadata": {
    "colab": {},
    "colab_type": "code",
    "collapsed": true,
    "id": "Jx4qDFxDNb4I"
   },
   "outputs": [],
   "source": [
    "from keras.layers.convolutional import Conv2D\n",
    "from keras.layers.convolutional import MaxPooling2D\n",
    "from keras.datasets import mnist"
   ]
  },
  {
   "cell_type": "code",
   "execution_count": 66,
   "metadata": {
    "colab": {},
    "colab_type": "code",
    "collapsed": true,
    "id": "G_hJIN7lgX0k"
   },
   "outputs": [],
   "source": [
    "(X_train, y_train), (X_test, y_test) = mnist.load_data()\n",
    "# reshape to be [samples][width][height][channels]\n",
    "X_train = X_train.reshape(X_train.shape[0], 28, 28,1).astype('float32')\n",
    "X_test = X_test.reshape(X_test.shape[0], 28, 28,1).astype('float32')"
   ]
  },
  {
   "cell_type": "code",
   "execution_count": 67,
   "metadata": {
    "colab": {},
    "colab_type": "code",
    "collapsed": true,
    "id": "niUbVVbFgkYy"
   },
   "outputs": [],
   "source": [
    "# normalize inputs from 0-255 to 0-1\n",
    "from keras.utils import np_utils\n",
    "X_train = X_train / 255\n",
    "X_test = X_test / 255\n",
    "# one hot encode outputs\n",
    "y_train=np_utils.to_categorical(y_train)\n",
    "y_test=np_utils.to_categorical(y_test)\n",
    "num_classes = y_test.shape[1]"
   ]
  },
  {
   "cell_type": "code",
   "execution_count": 68,
   "metadata": {
    "colab": {},
    "colab_type": "code",
    "collapsed": true,
    "id": "rKX6JG2IgqNT"
   },
   "outputs": [],
   "source": [
    "  model = Sequential()\n"
   ]
  },
  {
   "cell_type": "code",
   "execution_count": 69,
   "metadata": {
    "colab": {},
    "colab_type": "code",
    "collapsed": true,
    "id": "sllDB6fJhsJQ"
   },
   "outputs": [],
   "source": [
    "model.add(Conv2D(32, (5, 5), input_shape=(28,28,1), activation='relu'))\n",
    "model.add(MaxPooling2D(pool_size=(2, 2)))\n",
    "model.add(Dropout(0.2))\n",
    "model.add(Flatten())\n",
    "model.add(Dense(128, activation='relu'))\n",
    "model.add(Dense(num_classes, activation='softmax'))"
   ]
  },
  {
   "cell_type": "code",
   "execution_count": 70,
   "metadata": {
    "colab": {
     "base_uri": "https://localhost:8080/",
     "height": 357
    },
    "colab_type": "code",
    "id": "KLotGkvqh-nY",
    "outputId": "6ea0e74f-94d4-42f4-c8a8-a1006684f702"
   },
   "outputs": [
    {
     "name": "stdout",
     "output_type": "stream",
     "text": [
      "Model: \"sequential_5\"\n",
      "_________________________________________________________________\n",
      "Layer (type)                 Output Shape              Param #   \n",
      "=================================================================\n",
      "conv2d_3 (Conv2D)            (None, 24, 24, 32)        832       \n",
      "_________________________________________________________________\n",
      "max_pooling2d_3 (MaxPooling2 (None, 12, 12, 32)        0         \n",
      "_________________________________________________________________\n",
      "dropout_5 (Dropout)          (None, 12, 12, 32)        0         \n",
      "_________________________________________________________________\n",
      "flatten_3 (Flatten)          (None, 4608)              0         \n",
      "_________________________________________________________________\n",
      "dense_8 (Dense)              (None, 128)               589952    \n",
      "_________________________________________________________________\n",
      "dense_9 (Dense)              (None, 10)                1290      \n",
      "=================================================================\n",
      "Total params: 592,074\n",
      "Trainable params: 592,074\n",
      "Non-trainable params: 0\n",
      "_________________________________________________________________\n"
     ]
    }
   ],
   "source": [
    "model.summary()"
   ]
  },
  {
   "cell_type": "code",
   "execution_count": 71,
   "metadata": {
    "colab": {},
    "colab_type": "code",
    "collapsed": true,
    "id": "hc9neviNimz_"
   },
   "outputs": [],
   "source": [
    "model.compile(loss='categorical_crossentropy', optimizer='adam', metrics=['accuracy'])"
   ]
  },
  {
   "cell_type": "code",
   "execution_count": 72,
   "metadata": {
    "colab": {
     "base_uri": "https://localhost:8080/",
     "height": 34
    },
    "colab_type": "code",
    "id": "gAjzZVrqjED0",
    "outputId": "682871c4-507f-43bc-e606-425838c1724f"
   },
   "outputs": [
    {
     "name": "stdout",
     "output_type": "stream",
     "text": [
      "(60000, 28, 28, 1) (60000, 10) (10000, 28, 28, 1) (10000, 10)\n"
     ]
    }
   ],
   "source": [
    "print(X_train.shape,y_train.shape,X_test.shape,y_test.shape)"
   ]
  },
  {
   "cell_type": "code",
   "execution_count": 73,
   "metadata": {
    "colab": {
     "base_uri": "https://localhost:8080/",
     "height": 391
    },
    "colab_type": "code",
    "id": "kDcBf10PizrT",
    "outputId": "0da28e27-8583-4588-de89-b0c483f636a8"
   },
   "outputs": [
    {
     "name": "stdout",
     "output_type": "stream",
     "text": [
      "Train on 60000 samples, validate on 10000 samples\n",
      "Epoch 1/10\n",
      " - 29s - loss: 0.2427 - accuracy: 0.9301 - val_loss: 0.0739 - val_accuracy: 0.9772\n",
      "Epoch 2/10\n",
      " - 29s - loss: 0.0730 - accuracy: 0.9789 - val_loss: 0.0543 - val_accuracy: 0.9824\n",
      "Epoch 3/10\n",
      " - 29s - loss: 0.0547 - accuracy: 0.9835 - val_loss: 0.0438 - val_accuracy: 0.9851\n",
      "Epoch 4/10\n",
      " - 29s - loss: 0.0425 - accuracy: 0.9868 - val_loss: 0.0430 - val_accuracy: 0.9853\n",
      "Epoch 5/10\n",
      " - 29s - loss: 0.0347 - accuracy: 0.9892 - val_loss: 0.0376 - val_accuracy: 0.9869\n",
      "Epoch 6/10\n",
      " - 28s - loss: 0.0300 - accuracy: 0.9902 - val_loss: 0.0371 - val_accuracy: 0.9878\n",
      "Epoch 7/10\n",
      " - 28s - loss: 0.0244 - accuracy: 0.9923 - val_loss: 0.0344 - val_accuracy: 0.9880\n",
      "Epoch 8/10\n",
      " - 28s - loss: 0.0205 - accuracy: 0.9933 - val_loss: 0.0385 - val_accuracy: 0.9882\n",
      "Epoch 9/10\n",
      " - 28s - loss: 0.0176 - accuracy: 0.9942 - val_loss: 0.0337 - val_accuracy: 0.9893\n",
      "Epoch 10/10\n",
      " - 28s - loss: 0.0166 - accuracy: 0.9947 - val_loss: 0.0355 - val_accuracy: 0.9887\n"
     ]
    },
    {
     "data": {
      "text/plain": [
       "<keras.callbacks.callbacks.History at 0x7f9e7ebca1d0>"
      ]
     },
     "execution_count": 73,
     "metadata": {
      "tags": []
     },
     "output_type": "execute_result"
    }
   ],
   "source": [
    "model.fit(X_train, y_train, validation_data=(X_test, y_test), epochs=10, batch_size=200, verbose=2)"
   ]
  },
  {
   "cell_type": "code",
   "execution_count": 74,
   "metadata": {
    "colab": {
     "base_uri": "https://localhost:8080/",
     "height": 265
    },
    "colab_type": "code",
    "id": "nXCkbJBui7yE",
    "outputId": "73f66fee-9098-4c7e-eeea-7112d88227d3"
   },
   "outputs": [
    {
     "data": {
      "image/png": "[encoded data removed]",
      "text/plain": [
       "<Figure size 432x288 with 1 Axes>"
      ]
     },
     "metadata": {
      "needs_background": "light",
      "tags": []
     },
     "output_type": "display_data"
    }
   ],
   "source": [
    "import matplotlib.pyplot as plt\n",
    "idx = np.random.choice( X_test.shape[0] )\n",
    "cur_img = X_test[idx]\n",
    "img=cur_img.reshape((28,28))\n",
    "plt.imshow( img, cmap='gray' )\n",
    "plt.show()"
   ]
  },
  {
   "cell_type": "code",
   "execution_count": 78,
   "metadata": {
    "colab": {
     "base_uri": "https://localhost:8080/",
     "height": 68
    },
    "colab_type": "code",
    "id": "875064pTalsP",
    "outputId": "2816940a-db0c-46e6-ebd5-315f6926b092"
   },
   "outputs": [
    {
     "name": "stdout",
     "output_type": "stream",
     "text": [
      "(1, 28, 28, 1)\n",
      "Result : 6\n",
      "Confidence: 99.99997615814209\n"
     ]
    }
   ],
   "source": [
    "cur_img=np.reshape(cur_img,(1,28,28,1))\n",
    "print(cur_img.shape)\n",
    "ans = model.predict( cur_img )\n",
    "res = ans[0].argmax()\n",
    "print (\"Result :\", res)\n",
    "print (\"Confidence:\", 100*ans[0][res])"
   ]
  },
  {
   "cell_type": "code",
   "execution_count": null,
   "metadata": {
    "colab": {},
    "colab_type": "code",
    "collapsed": true,
    "id": "-bp_UYoNa5fe"
   },
   "outputs": [],
   "source": []
  }
 ],
 "metadata": {
  "colab": {
   "collapsed_sections": [],
   "name": "handwritten digit recognition mnist.ipynb",
   "provenance": []
  },
  "kernelspec": {
   "display_name": "Python 3",
   "language": "python",
   "name": "python3"
  },
  "language_info": {
   "codemirror_mode": {
    "name": "ipython",
    "version": 3
   },
   "file_extension": ".py",
   "mimetype": "text/x-python",
   "name": "python",
   "nbconvert_exporter": "python",
   "pygments_lexer": "ipython3",
   "version": "3.6.2"
  }
 },
 "nbformat": 4,
 "nbformat_minor": 1
}
